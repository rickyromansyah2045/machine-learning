{
  "cells": [
    {
      "attachments": {},
      "cell_type": "markdown",
      "metadata": {
        "id": "ewi4Fl_QieF8"
      },
      "source": [
        "Ref: https://kgptalkie.com/text-generation-using-tensorflow-keras-and-lstm/"
      ]
    },
    {
      "attachments": {},
      "cell_type": "markdown",
      "metadata": {
        "id": "Lv9fZv8ZLlAn"
      },
      "source": [
        "# Automatic Text Generation\n",
        "\n",
        "Automatic text generation is the generation of natural language texts by computer. It has applications in automatic documentation systems, automatic letter writing, automatic report generation, etc. In this project, we are going to generate words given a set of input words. We are going to train the LSTM model using William Shakespeare's writings. The dataset is available [here](https://ocw.mit.edu/ans7870/6/6.006/s08/lecturenotes/files/t8.shakespeare.txt)."
      ]
    },
    {
      "attachments": {},
      "cell_type": "markdown",
      "metadata": {
        "id": "rV32NagLL3Gk"
      },
      "source": [
        "# LSTM\n",
        "\n",
        "\n",
        "* Long Short-Term Memory (LSTM) networks are a modified version of recurrent neural networks, which makes it easier to remember past data in memory.\n",
        "* Generally LSTM is composed of a cell (the memory part of the LSTM unit) and three \"regulators\", usually called gates, of the flow of information inside the LSTM unit: an input gate, an output gate and a forget gate.\n",
        "* Intuitively, the cell is responsible for keeping track of the dependencies between the elements in the input sequence.\n",
        "* The input gate controls the extent to which a new value flows into the cell, the forget gate controls the extent to which a value remains in the cell and the output gate controls the extent to which the value in the cell is used to compute the output activation of the LSTM unit.\n",
        "* The activation function of the LSTM gates is often the logistic sigmoid function.\n",
        "* There are connections into and out of the LSTM gates, a few of which are recurrent. The weights of these connections, which need to be learned during training, determine how the gates operate.\n",
        "\n",
        "Here we are importing the necessary libraries:\n",
        "\n",
        "* We have used a command to select the tensorflow version as 2.x\n",
        "* We have imported `tensorflow` to build the model.\n",
        "* We have imported `string` to get set of punctuations.\n",
        "* We have imported `requests` to get the data file in the notebook."
      ]
    },
    {
      "cell_type": "code",
      "execution_count": 73,
      "metadata": {
        "id": "BfsADBvy0HCL"
      },
      "outputs": [],
      "source": [
        "import tensorflow as tf\n",
        "import string \n",
        "import requests"
      ]
    },
    {
      "cell_type": "code",
      "execution_count": 74,
      "metadata": {
        "colab": {
          "base_uri": "https://localhost:8080/",
          "height": 73
        },
        "id": "8374xPDHMq4P",
        "outputId": "8888f29d-e0dd-4c11-87a4-5c79165ddf32"
      },
      "outputs": [],
      "source": [
        "# from google.colab import files\n",
        "# uploaded = files.upload()"
      ]
    },
    {
      "attachments": {},
      "cell_type": "markdown",
      "metadata": {
        "id": "BPYSR0CANOiB"
      },
      "source": [
        "Next, you will lowercase and split the plain text into a list of sentences:"
      ]
    },
    {
      "cell_type": "code",
      "execution_count": 75,
      "metadata": {
        "colab": {
          "base_uri": "https://localhost:8080/"
        },
        "id": "lOAVsbRcM4In",
        "outputId": "71b3640e-7d53-47f8-938b-11c0d4576fb8"
      },
      "outputs": [
        {
          "name": "stdout",
          "output_type": "stream",
          "text": [
            "gejala dan pengobatan penyakit ginjal pada kucing\n"
          ]
        }
      ],
      "source": [
        "# Load the dataset\n",
        "data = open('./search-keywords-cat.txt').read()\n",
        "\n",
        "# Lowercase and split the text\n",
        "corpus = data.lower().split(\"\\n\")\n",
        "\n",
        "# Clean the dataset\n",
        "for i in range(len(corpus)):\n",
        "  corpus[i] = corpus[i].replace('\\ufeff', '').replace('“','').replace('”','').replace('.','').replace('?','').replace('-','')\n",
        "\n",
        "\n",
        "# Preview the result\n",
        "print(corpus[0])"
      ]
    },
    {
      "attachments": {},
      "cell_type": "markdown",
      "metadata": {
        "id": "ADxHIM-jOVBb"
      },
      "source": [
        "The total number of lines in our data is 1273."
      ]
    },
    {
      "cell_type": "code",
      "execution_count": 76,
      "metadata": {
        "colab": {
          "base_uri": "https://localhost:8080/"
        },
        "id": "0Ap_ejJDOQ0Z",
        "outputId": "7b963650-e463-400c-b213-a867cd2b12e2"
      },
      "outputs": [
        {
          "data": {
            "text/plain": [
              "2127"
            ]
          },
          "execution_count": 76,
          "metadata": {},
          "output_type": "execute_result"
        }
      ],
      "source": [
        "len(corpus)"
      ]
    },
    {
      "attachments": {},
      "cell_type": "markdown",
      "metadata": {
        "id": "l-TKfNPTe-3F"
      },
      "source": [
        "Right now we have a list of the lines in the data. Now we are going to `join` all the lines and create a long string consisting of the data in continuous format."
      ]
    },
    {
      "cell_type": "code",
      "execution_count": 77,
      "metadata": {
        "colab": {
          "base_uri": "https://localhost:8080/",
          "height": 140
        },
        "id": "8awDHrkufCCd",
        "outputId": "09ee27ca-29f1-4721-b0fa-d5ff2722361a"
      },
      "outputs": [
        {
          "data": {
            "text/plain": [
              "'gejala dan pengobatan penyakit ginjal pada kucing penyebab dan pengobatan diabetes kucing cara mengatasi masalah pernapasan pada kucing tandatanda dan pengobatan penyakit kulit pada kucing cara mengobati infeksi saluran kemih pada kucing penyebab dan pengobatan penyakit hati pada kucing cara merawat gigi kucing untuk mencegah penyakit gigi mengenal tandatanda dan pengobatan penyakit jantung pada kucing cara mengobati alergi pada kucing gejala dan pengobatan penyakit perut pada kucing cara mengatasi gangguan pencernaan pada kucing penyebab dan pengobatan penyakit mata pada kucing tandatanda dan pengobatan penyakit tulang dan sendi pada kucing mengatasi masalah kecemasan dan stres pada kucing penyebab dan pengobatan gangguan peredaran darah pada kucing cara mengobati masalah reproduksi pada kucing tandatanda dan pengobatan penyakit pernapasan kronis pada kucing mengatasi masalah kesehatan pada kucing yang lebih tua penyebab dan pengobatan gangguan sistem saraf pada kucing cara mengobati '"
            ]
          },
          "execution_count": 77,
          "metadata": {},
          "output_type": "execute_result"
        }
      ],
      "source": [
        "corpus = \" \".join(corpus)\n",
        "corpus[:1000]"
      ]
    },
    {
      "attachments": {},
      "cell_type": "markdown",
      "metadata": {
        "id": "JwP6lAlufh2U"
      },
      "source": [
        "You can see that the data consists of various punctuation marks. We are going to create a function `clean_text()` to remove all the punctuation marks and special characters from the data.\n",
        "\n",
        "We will split the data according to space character and separate each word using `split()`.\n",
        "\n",
        "`maketrans()` function is used to construct the transition table i.e specify the list of characters that need to be replaced in the whole string or the characters that need to be deleted from the string. The first parameter specifies the list of characters that need to be replaced, the second parameter specifies the list of characters with which the characters need to be replaced, the third parameter specifies the list of characters that needs to be deleted.It returns the translation table which specifies the conversions that can be used by `translate()`.\n",
        "\n",
        "`string.punctuation` is a pre-initialized string used as string constant which will give all the sets of punctuation.\n",
        "\n",
        "To translate the characters in the string `translate()` is used to make the translations. This function uses the translation mapping specified using the `maketrans()`.\n",
        "\n",
        "The `isalpha()` method returns `True` if all the characters are alphabet letters (a-z). The `lower()` methods returns the lowercased string from the given string.\n",
        "\n",
        "We can see that after passing `data` to `clean_text()` we get the data in the required format without punctuations and special characters."
      ]
    },
    {
      "cell_type": "code",
      "execution_count": 78,
      "metadata": {
        "colab": {
          "base_uri": "https://localhost:8080/"
        },
        "id": "OGVnKfbpf3IG",
        "outputId": "1dfddf40-a637-4346-e54f-20e8846c3e75"
      },
      "outputs": [
        {
          "name": "stdout",
          "output_type": "stream",
          "text": [
            "['gejala', 'dan', 'pengobatan', 'penyakit', 'ginjal']\n"
          ]
        }
      ],
      "source": [
        "def clean_text(doc):\n",
        "  tokens = doc.split()\n",
        "  table = str.maketrans('', '', string.punctuation)\n",
        "  tokens = [w.translate(table) for w in tokens]\n",
        "  tokens = [word for word in tokens if word.isalpha()]\n",
        "  tokens = [word.lower() for word in tokens]\n",
        "  return tokens\n",
        "\n",
        "tokens = clean_text(data)\n",
        "print(tokens[:5])"
      ]
    },
    {
      "attachments": {},
      "cell_type": "markdown",
      "metadata": {
        "id": "G0y-XJF9gBX-"
      },
      "source": [
        "The total number of words are 13012."
      ]
    },
    {
      "cell_type": "code",
      "execution_count": 79,
      "metadata": {
        "colab": {
          "base_uri": "https://localhost:8080/"
        },
        "id": "eCf2bcJ2gCEn",
        "outputId": "c69b56f9-ea3b-4196-a898-6f4d34549ca0"
      },
      "outputs": [
        {
          "data": {
            "text/plain": [
              "21831"
            ]
          },
          "execution_count": 79,
          "metadata": {},
          "output_type": "execute_result"
        }
      ],
      "source": [
        "len(tokens) "
      ]
    },
    {
      "attachments": {},
      "cell_type": "markdown",
      "metadata": {
        "id": "eaQsQqxngMEu"
      },
      "source": [
        "The total number of unique words are 1246."
      ]
    },
    {
      "cell_type": "code",
      "execution_count": 80,
      "metadata": {
        "colab": {
          "base_uri": "https://localhost:8080/"
        },
        "id": "kPT8FwwrgIEc",
        "outputId": "24c48358-c441-4460-e830-409bd8aa3456"
      },
      "outputs": [
        {
          "data": {
            "text/plain": [
              "1578"
            ]
          },
          "execution_count": 80,
          "metadata": {},
          "output_type": "execute_result"
        }
      ],
      "source": [
        "len(set(tokens))"
      ]
    },
    {
      "attachments": {},
      "cell_type": "markdown",
      "metadata": {
        "id": "9dqWPgRKgRCE"
      },
      "source": [
        "As discussed before we are going to use a set of previous words to predict the next word in the sentence. To be precise we are going to use a set of 5 words to predict the 6st word. Hence we are going to divide our data in chunks of 51 words and at the last we will separate the last word from every line. We are going to limit our dataset to 200000 words."
      ]
    },
    {
      "cell_type": "code",
      "execution_count": 81,
      "metadata": {
        "colab": {
          "base_uri": "https://localhost:8080/"
        },
        "id": "HIftNTSigUH2",
        "outputId": "fa4f3b3c-38c1-46d2-b7df-2aa54db65865"
      },
      "outputs": [
        {
          "name": "stdout",
          "output_type": "stream",
          "text": [
            "21825\n"
          ]
        }
      ],
      "source": [
        "length = 5 + 1\n",
        "lines = []\n",
        "\n",
        "for i in range(length, len(tokens)):\n",
        "  seq = tokens[i-length:i]\n",
        "  line = ' '.join(seq)\n",
        "  lines.append(line)\n",
        "  if i > 200000:\n",
        "    break\n",
        "\n",
        "print(len(lines))"
      ]
    },
    {
      "attachments": {},
      "cell_type": "markdown",
      "metadata": {
        "id": "eA0zP1rCgnWv"
      },
      "source": [
        "Now we will see the first line consisting of 6 words."
      ]
    },
    {
      "cell_type": "code",
      "execution_count": 82,
      "metadata": {
        "colab": {
          "base_uri": "https://localhost:8080/",
          "height": 36
        },
        "id": "SepmADPEgaa8",
        "outputId": "eb6c8f1a-e19e-4568-daee-968cb7c2d810"
      },
      "outputs": [
        {
          "data": {
            "text/plain": [
              "'gejala dan pengobatan penyakit ginjal pada'"
            ]
          },
          "execution_count": 82,
          "metadata": {},
          "output_type": "execute_result"
        }
      ],
      "source": [
        "lines[0]"
      ]
    },
    {
      "attachments": {},
      "cell_type": "markdown",
      "metadata": {
        "id": "lB-SERGJgtQU"
      },
      "source": [
        "The 6st word in this line is  which will the output word used for prediction.`'pada'`"
      ]
    },
    {
      "cell_type": "code",
      "execution_count": 83,
      "metadata": {
        "colab": {
          "base_uri": "https://localhost:8080/",
          "height": 36
        },
        "id": "vkqjdy-agrCt",
        "outputId": "899f4211-d39f-47cf-e59f-f6c18cd410b9"
      },
      "outputs": [
        {
          "data": {
            "text/plain": [
              "'kucing'"
            ]
          },
          "execution_count": 83,
          "metadata": {},
          "output_type": "execute_result"
        }
      ],
      "source": [
        "tokens[6]"
      ]
    },
    {
      "attachments": {},
      "cell_type": "markdown",
      "metadata": {
        "id": "YveD4Rv5g1j1"
      },
      "source": [
        "This is the second line consisting of 6 words. As you can see we have hopped by one word. The 51st word in this line is  which will the output word used for prediction.`'kucing'`"
      ]
    },
    {
      "cell_type": "code",
      "execution_count": 84,
      "metadata": {
        "colab": {
          "base_uri": "https://localhost:8080/",
          "height": 36
        },
        "id": "ZXo55ewdgzhD",
        "outputId": "f4be0822-76d3-4fde-a28a-8287149f31a9"
      },
      "outputs": [
        {
          "data": {
            "text/plain": [
              "'dan pengobatan penyakit ginjal pada kucing'"
            ]
          },
          "execution_count": 84,
          "metadata": {},
          "output_type": "execute_result"
        }
      ],
      "source": [
        "lines[1]"
      ]
    },
    {
      "attachments": {},
      "cell_type": "markdown",
      "metadata": {
        "id": "-JyrF0E3g7Nl"
      },
      "source": [
        "# Build LSTM Model and Prepare and `X` `y`\n",
        "Here we have imported all the necessary libraries used to pre-process the data and create the layers of the neural network."
      ]
    },
    {
      "cell_type": "code",
      "execution_count": 85,
      "metadata": {
        "id": "u0buXVoBhDG-"
      },
      "outputs": [],
      "source": [
        "import pickle\n",
        "import numpy as np\n",
        "from tensorflow.keras.preprocessing.text import Tokenizer\n",
        "from tensorflow.keras.utils import to_categorical\n",
        "from tensorflow.keras.models import Sequential\n",
        "from tensorflow.keras.layers import Dense, LSTM, Embedding\n",
        "from tensorflow.keras.preprocessing.sequence import pad_sequences"
      ]
    },
    {
      "attachments": {},
      "cell_type": "markdown",
      "metadata": {
        "id": "-rOdcMlFhH_E"
      },
      "source": [
        "We are going to create a unique numerical token for each unique word in the dataset.  updates internal vocabulary based on a list of texts.  transforms each text in texts to a sequence of integers.`fit_on_texts()` `texts_to_sequences()`"
      ]
    },
    {
      "cell_type": "code",
      "execution_count": 86,
      "metadata": {
        "id": "slblSlY2hGg7"
      },
      "outputs": [],
      "source": [
        "tokenizer = Tokenizer()\n",
        "tokenizer.fit_on_texts(lines)\n",
        "# saving the tokenizer for predict function\n",
        "pickle.dump(tokenizer, open('token_new.pkl', 'wb'))\n",
        "sequences = tokenizer.texts_to_sequences(lines)"
      ]
    },
    {
      "attachments": {},
      "cell_type": "markdown",
      "metadata": {
        "id": "hUAsOB-ohOkj"
      },
      "source": [
        "`sequences` containes a list of integer values created by . Each line in  has 6 words. Now we will split each line such that the first 5 words are in  and the last word is in . `tokenizer` `sequences` \n",
        " `X` `y`"
      ]
    },
    {
      "cell_type": "code",
      "execution_count": 87,
      "metadata": {
        "colab": {
          "base_uri": "https://localhost:8080/"
        },
        "id": "2WxdhU3OhNJ6",
        "outputId": "4a668254-e6d1-4f68-b017-947c604102f3"
      },
      "outputs": [
        {
          "data": {
            "text/plain": [
              "array([202,   3,  85,  35, 129])"
            ]
          },
          "execution_count": 87,
          "metadata": {},
          "output_type": "execute_result"
        }
      ],
      "source": [
        "sequences = np.array(sequences)\n",
        "X, y = sequences[:, :-1], sequences[:,-1]\n",
        "X[0]"
      ]
    },
    {
      "attachments": {},
      "cell_type": "markdown",
      "metadata": {
        "id": "QdGcvFtdhiik"
      },
      "source": [
        "`vocab_size` contains all the uniques words in the dataset.  gives the mapping of each unique word to its numerical equivalent. Hence  of  gives the .`tokenizer.word_index` `len()` `tokenizer.word_index` `vocab_size`"
      ]
    },
    {
      "cell_type": "code",
      "execution_count": 88,
      "metadata": {
        "colab": {
          "base_uri": "https://localhost:8080/"
        },
        "id": "tiKgvjhNhgl0",
        "outputId": "fe80db9b-3275-401a-bb47-6fb0ec7bb9d0"
      },
      "outputs": [
        {
          "name": "stdout",
          "output_type": "stream",
          "text": [
            "1579\n"
          ]
        }
      ],
      "source": [
        "vocab_size = len(tokenizer.word_index) + 1\n",
        "print(vocab_size)"
      ]
    },
    {
      "attachments": {},
      "cell_type": "markdown",
      "metadata": {
        "id": "KzIg5lpXh1S7"
      },
      "source": [
        "`to_categorical()` converts a class vector (integers) to binary class matrix.  is the total number of classes which is .`num_classes` `vocab_size`"
      ]
    },
    {
      "cell_type": "code",
      "execution_count": 89,
      "metadata": {
        "id": "66_O7YPTh650"
      },
      "outputs": [],
      "source": [
        "y = to_categorical(y, num_classes=vocab_size)"
      ]
    },
    {
      "attachments": {},
      "cell_type": "markdown",
      "metadata": {
        "id": "8RP2LpfBh9O6"
      },
      "source": [
        "The length of each sequence in  is 5.`x`"
      ]
    },
    {
      "cell_type": "code",
      "execution_count": 90,
      "metadata": {
        "colab": {
          "base_uri": "https://localhost:8080/"
        },
        "id": "uQ370cvviA97",
        "outputId": "24c20d09-3d05-4d64-90df-0b973a4290ef"
      },
      "outputs": [
        {
          "data": {
            "text/plain": [
              "5"
            ]
          },
          "execution_count": 90,
          "metadata": {},
          "output_type": "execute_result"
        }
      ],
      "source": [
        "seq_length = X.shape[1]\n",
        "seq_length"
      ]
    },
    {
      "attachments": {},
      "cell_type": "markdown",
      "metadata": {
        "id": "A__Z9iaAiDOq"
      },
      "source": [
        "# LSTM Model\n",
        "A  is appropriate for a plain stack of layers where each layer has exactly one input tensor and one output tensor.`Sequential model`\n",
        "\n",
        "## Embedding layer\n",
        "The Embedding layer is initialized with random weights and will learn an embedding for all of the words in the training dataset. It requires 3 arguments:\n",
        "\n",
        "* `input_dim`: This is the size of the vocabulary in the text data which is  in this case. `vocab_size`\n",
        "* `output_dim`: This is the size of the vector space in which words will be embedded. It defines the size of the output vectors from this layer for each word.\n",
        "`input_length`: Length of input sequences which is . `seq_length`\n",
        "\n",
        "## LSTM layer:\n",
        "This is the main layer of the model. It learns long-term dependencies between time steps in time series and sequence data.  when set to  returns the full sequence as the output. `return_sequence` `True`\n",
        "\n",
        "\n",
        "## Dense layer:\n",
        "Dense layer is the regular deeply connected neural network layer. It is the most common and frequently used layer. The rectified linear activation function or  for short is a piecewise linear function that will output the input directly if it is positive, otherwise, it will output zero. `relu`\n",
        "\n",
        "\n",
        "The last layer is also a dense layer with 13009 neurons because we have to predict the probabilties of 13009 words. The activation function used is . Softmax converts a real vector to a vector of categorical probabilities. The elements of the output vector are in range (0, 1) and sum to 1. `softmax`"
      ]
    },
    {
      "cell_type": "code",
      "execution_count": 91,
      "metadata": {
        "id": "KBLmbEihizu0"
      },
      "outputs": [],
      "source": [
        "model = Sequential()\n",
        "model.add(Embedding(vocab_size, 32, input_length=seq_length))\n",
        "model.add(LSTM(64, return_sequences=True))\n",
        "model.add(LSTM(64))\n",
        "model.add(Dense(64, activation='relu'))\n",
        "model.add(Dense(vocab_size, activation='softmax'))"
      ]
    },
    {
      "cell_type": "code",
      "execution_count": 92,
      "metadata": {
        "colab": {
          "base_uri": "https://localhost:8080/"
        },
        "id": "gj-qngG3i3H8",
        "outputId": "d221712f-42b0-4c7c-b089-98e845d20caf"
      },
      "outputs": [
        {
          "name": "stdout",
          "output_type": "stream",
          "text": [
            "Model: \"sequential_3\"\n",
            "_________________________________________________________________\n",
            " Layer (type)                Output Shape              Param #   \n",
            "=================================================================\n",
            " embedding_3 (Embedding)     (None, 5, 32)             50528     \n",
            "                                                                 \n",
            " lstm_6 (LSTM)               (None, 5, 64)             24832     \n",
            "                                                                 \n",
            " lstm_7 (LSTM)               (None, 64)                33024     \n",
            "                                                                 \n",
            " dense_6 (Dense)             (None, 64)                4160      \n",
            "                                                                 \n",
            " dense_7 (Dense)             (None, 1579)              102635    \n",
            "                                                                 \n",
            "=================================================================\n",
            "Total params: 215,179\n",
            "Trainable params: 215,179\n",
            "Non-trainable params: 0\n",
            "_________________________________________________________________\n"
          ]
        }
      ],
      "source": [
        "model.summary()"
      ]
    },
    {
      "cell_type": "code",
      "execution_count": 93,
      "metadata": {
        "id": "oIvX-ZAwjEZj"
      },
      "outputs": [],
      "source": [
        "from tensorflow.keras.callbacks import ModelCheckpoint\n",
        "checkpoint = ModelCheckpoint(\"next_words.h5\", \n",
        "                             monitor='loss', \n",
        "                             verbose=2, \n",
        "                             save_best_only=True)\n",
        "\n",
        "learning_rate = 0.001\n",
        "model.compile(\n",
        "    loss = 'categorical_crossentropy', \n",
        "    # optimizer = 'adam', \n",
        "    optimizer = tf.keras.optimizers.Adam(learning_rate=learning_rate),\n",
        "    metrics = ['accuracy']\n",
        "    )"
      ]
    },
    {
      "attachments": {},
      "cell_type": "markdown",
      "metadata": {
        "id": "9ip5tL_6jJVn"
      },
      "source": [
        "After compiling the model we will now train the model using  on the training dataset. We will use 100  to train the model. An epoch is an iteration over the entire x and y data provided.  is the number of samples per gradient update i.e. the weights will be updates after 256 training examples. `model.fit()` `epochs` `batch_size`"
      ]
    },
    {
      "cell_type": "code",
      "execution_count": 94,
      "metadata": {
        "colab": {
          "base_uri": "https://localhost:8080/"
        },
        "id": "J3KeOR7HjH96",
        "outputId": "10e151c0-0c7b-48a4-9bcb-fcdea7fb996c"
      },
      "outputs": [
        {
          "name": "stdout",
          "output_type": "stream",
          "text": [
            "Epoch 1/100\n",
            "\n",
            "Epoch 1: loss improved from inf to 5.81570, saving model to next_words.h5\n",
            "154/154 - 10s - loss: 5.8157 - accuracy: 0.0822 - val_loss: 6.7980 - val_accuracy: 0.1310 - 10s/epoch - 62ms/step\n",
            "Epoch 2/100\n",
            "\n",
            "Epoch 2: loss improved from 5.81570 to 5.29997, saving model to next_words.h5\n",
            "154/154 - 3s - loss: 5.3000 - accuracy: 0.0940 - val_loss: 7.0552 - val_accuracy: 0.1310 - 3s/epoch - 23ms/step\n",
            "Epoch 3/100\n",
            "\n",
            "Epoch 3: loss improved from 5.29997 to 5.26562, saving model to next_words.h5\n",
            "154/154 - 3s - loss: 5.2656 - accuracy: 0.0940 - val_loss: 7.2152 - val_accuracy: 0.1310 - 3s/epoch - 22ms/step\n",
            "Epoch 4/100\n",
            "\n",
            "Epoch 4: loss improved from 5.26562 to 5.14765, saving model to next_words.h5\n",
            "154/154 - 3s - loss: 5.1476 - accuracy: 0.0931 - val_loss: 7.4010 - val_accuracy: 0.1232 - 3s/epoch - 22ms/step\n",
            "Epoch 5/100\n",
            "\n",
            "Epoch 5: loss improved from 5.14765 to 4.82900, saving model to next_words.h5\n",
            "154/154 - 4s - loss: 4.8290 - accuracy: 0.1051 - val_loss: 7.5129 - val_accuracy: 0.1113 - 4s/epoch - 25ms/step\n",
            "Epoch 6/100\n",
            "\n",
            "Epoch 6: loss improved from 4.82900 to 4.48162, saving model to next_words.h5\n",
            "154/154 - 4s - loss: 4.4816 - accuracy: 0.1502 - val_loss: 7.9294 - val_accuracy: 0.1251 - 4s/epoch - 24ms/step\n",
            "Epoch 7/100\n",
            "\n",
            "Epoch 7: loss improved from 4.48162 to 4.18011, saving model to next_words.h5\n",
            "154/154 - 4s - loss: 4.1801 - accuracy: 0.1920 - val_loss: 8.4659 - val_accuracy: 0.0976 - 4s/epoch - 23ms/step\n",
            "Epoch 8/100\n",
            "\n",
            "Epoch 8: loss improved from 4.18011 to 3.86181, saving model to next_words.h5\n",
            "154/154 - 4s - loss: 3.8618 - accuracy: 0.2450 - val_loss: 8.6470 - val_accuracy: 0.0797 - 4s/epoch - 24ms/step\n",
            "Epoch 9/100\n",
            "\n",
            "Epoch 9: loss improved from 3.86181 to 3.56496, saving model to next_words.h5\n",
            "154/154 - 4s - loss: 3.5650 - accuracy: 0.2827 - val_loss: 8.8247 - val_accuracy: 0.0838 - 4s/epoch - 23ms/step\n",
            "Epoch 10/100\n",
            "\n",
            "Epoch 10: loss improved from 3.56496 to 3.31498, saving model to next_words.h5\n",
            "154/154 - 3s - loss: 3.3150 - accuracy: 0.3241 - val_loss: 9.2280 - val_accuracy: 0.0655 - 3s/epoch - 23ms/step\n",
            "Epoch 11/100\n",
            "\n",
            "Epoch 11: loss improved from 3.31498 to 3.11149, saving model to next_words.h5\n",
            "154/154 - 4s - loss: 3.1115 - accuracy: 0.3548 - val_loss: 10.1194 - val_accuracy: 0.0600 - 4s/epoch - 24ms/step\n",
            "Epoch 12/100\n",
            "\n",
            "Epoch 12: loss improved from 3.11149 to 2.93176, saving model to next_words.h5\n",
            "154/154 - 4s - loss: 2.9318 - accuracy: 0.3819 - val_loss: 10.3948 - val_accuracy: 0.0756 - 4s/epoch - 23ms/step\n",
            "Epoch 13/100\n",
            "\n",
            "Epoch 13: loss improved from 2.93176 to 2.78356, saving model to next_words.h5\n",
            "154/154 - 4s - loss: 2.7836 - accuracy: 0.4025 - val_loss: 10.8570 - val_accuracy: 0.0820 - 4s/epoch - 24ms/step\n",
            "Epoch 14/100\n",
            "\n",
            "Epoch 14: loss improved from 2.78356 to 2.65773, saving model to next_words.h5\n",
            "154/154 - 4s - loss: 2.6577 - accuracy: 0.4229 - val_loss: 11.4003 - val_accuracy: 0.0779 - 4s/epoch - 25ms/step\n",
            "Epoch 15/100\n",
            "\n",
            "Epoch 15: loss improved from 2.65773 to 2.54043, saving model to next_words.h5\n",
            "154/154 - 3s - loss: 2.5404 - accuracy: 0.4442 - val_loss: 11.5339 - val_accuracy: 0.0660 - 3s/epoch - 23ms/step\n",
            "Epoch 16/100\n",
            "\n",
            "Epoch 16: loss improved from 2.54043 to 2.43223, saving model to next_words.h5\n",
            "154/154 - 5s - loss: 2.4322 - accuracy: 0.4606 - val_loss: 12.0202 - val_accuracy: 0.0967 - 5s/epoch - 33ms/step\n",
            "Epoch 17/100\n",
            "\n",
            "Epoch 17: loss improved from 2.43223 to 2.33604, saving model to next_words.h5\n",
            "154/154 - 6s - loss: 2.3360 - accuracy: 0.4753 - val_loss: 12.3446 - val_accuracy: 0.0907 - 6s/epoch - 40ms/step\n",
            "Epoch 18/100\n",
            "\n",
            "Epoch 18: loss improved from 2.33604 to 2.24885, saving model to next_words.h5\n",
            "154/154 - 6s - loss: 2.2489 - accuracy: 0.4899 - val_loss: 12.9108 - val_accuracy: 0.0733 - 6s/epoch - 39ms/step\n",
            "Epoch 19/100\n",
            "\n",
            "Epoch 19: loss improved from 2.24885 to 2.17239, saving model to next_words.h5\n",
            "154/154 - 6s - loss: 2.1724 - accuracy: 0.4996 - val_loss: 13.1606 - val_accuracy: 0.0710 - 6s/epoch - 40ms/step\n",
            "Epoch 20/100\n",
            "\n",
            "Epoch 20: loss improved from 2.17239 to 2.09155, saving model to next_words.h5\n",
            "154/154 - 6s - loss: 2.0915 - accuracy: 0.5137 - val_loss: 13.4760 - val_accuracy: 0.0857 - 6s/epoch - 39ms/step\n",
            "Epoch 21/100\n",
            "\n",
            "Epoch 21: loss improved from 2.09155 to 2.01389, saving model to next_words.h5\n",
            "154/154 - 6s - loss: 2.0139 - accuracy: 0.5261 - val_loss: 13.8553 - val_accuracy: 0.0930 - 6s/epoch - 39ms/step\n",
            "Epoch 22/100\n",
            "\n",
            "Epoch 22: loss improved from 2.01389 to 1.95004, saving model to next_words.h5\n",
            "154/154 - 6s - loss: 1.9500 - accuracy: 0.5330 - val_loss: 14.1653 - val_accuracy: 0.0948 - 6s/epoch - 39ms/step\n",
            "Epoch 23/100\n",
            "\n",
            "Epoch 23: loss improved from 1.95004 to 1.88260, saving model to next_words.h5\n",
            "154/154 - 6s - loss: 1.8826 - accuracy: 0.5472 - val_loss: 14.3738 - val_accuracy: 0.0889 - 6s/epoch - 39ms/step\n",
            "Epoch 24/100\n",
            "\n",
            "Epoch 24: loss improved from 1.88260 to 1.81430, saving model to next_words.h5\n",
            "154/154 - 5s - loss: 1.8143 - accuracy: 0.5599 - val_loss: 15.0161 - val_accuracy: 0.0870 - 5s/epoch - 34ms/step\n",
            "Epoch 25/100\n",
            "\n",
            "Epoch 25: loss improved from 1.81430 to 1.75855, saving model to next_words.h5\n",
            "154/154 - 4s - loss: 1.7586 - accuracy: 0.5690 - val_loss: 15.5285 - val_accuracy: 0.0861 - 4s/epoch - 24ms/step\n",
            "Epoch 26/100\n",
            "\n",
            "Epoch 26: loss improved from 1.75855 to 1.70812, saving model to next_words.h5\n",
            "154/154 - 3s - loss: 1.7081 - accuracy: 0.5774 - val_loss: 15.5640 - val_accuracy: 0.0866 - 3s/epoch - 23ms/step\n",
            "Epoch 27/100\n",
            "\n",
            "Epoch 27: loss improved from 1.70812 to 1.65369, saving model to next_words.h5\n",
            "154/154 - 3s - loss: 1.6537 - accuracy: 0.5888 - val_loss: 15.8956 - val_accuracy: 0.0843 - 3s/epoch - 22ms/step\n",
            "Epoch 28/100\n",
            "\n",
            "Epoch 28: loss improved from 1.65369 to 1.60651, saving model to next_words.h5\n",
            "154/154 - 4s - loss: 1.6065 - accuracy: 0.5990 - val_loss: 16.4916 - val_accuracy: 0.1003 - 4s/epoch - 23ms/step\n",
            "Epoch 29/100\n",
            "\n",
            "Epoch 29: loss improved from 1.60651 to 1.55814, saving model to next_words.h5\n",
            "154/154 - 3s - loss: 1.5581 - accuracy: 0.6064 - val_loss: 16.8099 - val_accuracy: 0.0985 - 3s/epoch - 22ms/step\n",
            "Epoch 30/100\n",
            "\n",
            "Epoch 30: loss improved from 1.55814 to 1.51069, saving model to next_words.h5\n",
            "154/154 - 3s - loss: 1.5107 - accuracy: 0.6166 - val_loss: 16.9090 - val_accuracy: 0.0884 - 3s/epoch - 22ms/step\n",
            "Epoch 31/100\n",
            "\n",
            "Epoch 31: loss improved from 1.51069 to 1.47384, saving model to next_words.h5\n",
            "154/154 - 4s - loss: 1.4738 - accuracy: 0.6209 - val_loss: 17.2823 - val_accuracy: 0.0912 - 4s/epoch - 23ms/step\n",
            "Epoch 32/100\n",
            "\n",
            "Epoch 32: loss improved from 1.47384 to 1.43054, saving model to next_words.h5\n",
            "154/154 - 4s - loss: 1.4305 - accuracy: 0.6281 - val_loss: 17.5866 - val_accuracy: 0.0921 - 4s/epoch - 23ms/step\n",
            "Epoch 33/100\n",
            "\n",
            "Epoch 33: loss improved from 1.43054 to 1.39296, saving model to next_words.h5\n",
            "154/154 - 4s - loss: 1.3930 - accuracy: 0.6414 - val_loss: 17.8493 - val_accuracy: 0.0788 - 4s/epoch - 23ms/step\n",
            "Epoch 34/100\n",
            "\n",
            "Epoch 34: loss improved from 1.39296 to 1.35725, saving model to next_words.h5\n",
            "154/154 - 4s - loss: 1.3573 - accuracy: 0.6429 - val_loss: 18.0173 - val_accuracy: 0.0957 - 4s/epoch - 23ms/step\n",
            "Epoch 35/100\n",
            "\n",
            "Epoch 35: loss improved from 1.35725 to 1.31815, saving model to next_words.h5\n",
            "154/154 - 4s - loss: 1.3182 - accuracy: 0.6532 - val_loss: 18.3892 - val_accuracy: 0.0971 - 4s/epoch - 24ms/step\n",
            "Epoch 36/100\n",
            "\n",
            "Epoch 36: loss improved from 1.31815 to 1.28353, saving model to next_words.h5\n",
            "154/154 - 4s - loss: 1.2835 - accuracy: 0.6599 - val_loss: 18.5101 - val_accuracy: 0.0948 - 4s/epoch - 28ms/step\n",
            "Epoch 37/100\n",
            "\n",
            "Epoch 37: loss improved from 1.28353 to 1.25429, saving model to next_words.h5\n",
            "154/154 - 3s - loss: 1.2543 - accuracy: 0.6648 - val_loss: 18.7642 - val_accuracy: 0.0907 - 3s/epoch - 22ms/step\n",
            "Epoch 38/100\n",
            "\n",
            "Epoch 38: loss improved from 1.25429 to 1.22178, saving model to next_words.h5\n",
            "154/154 - 4s - loss: 1.2218 - accuracy: 0.6725 - val_loss: 19.0085 - val_accuracy: 0.0980 - 4s/epoch - 23ms/step\n",
            "Epoch 39/100\n",
            "\n",
            "Epoch 39: loss improved from 1.22178 to 1.18866, saving model to next_words.h5\n",
            "154/154 - 4s - loss: 1.1887 - accuracy: 0.6804 - val_loss: 19.5294 - val_accuracy: 0.0852 - 4s/epoch - 25ms/step\n",
            "Epoch 40/100\n",
            "\n",
            "Epoch 40: loss improved from 1.18866 to 1.16183, saving model to next_words.h5\n",
            "154/154 - 4s - loss: 1.1618 - accuracy: 0.6850 - val_loss: 19.7400 - val_accuracy: 0.0857 - 4s/epoch - 23ms/step\n",
            "Epoch 41/100\n",
            "\n",
            "Epoch 41: loss improved from 1.16183 to 1.12907, saving model to next_words.h5\n",
            "154/154 - 6s - loss: 1.1291 - accuracy: 0.6939 - val_loss: 20.0513 - val_accuracy: 0.0902 - 6s/epoch - 41ms/step\n",
            "Epoch 42/100\n",
            "\n",
            "Epoch 42: loss improved from 1.12907 to 1.10188, saving model to next_words.h5\n",
            "154/154 - 6s - loss: 1.1019 - accuracy: 0.7012 - val_loss: 20.2533 - val_accuracy: 0.0948 - 6s/epoch - 39ms/step\n",
            "Epoch 43/100\n",
            "\n",
            "Epoch 43: loss improved from 1.10188 to 1.07855, saving model to next_words.h5\n",
            "154/154 - 17s - loss: 1.0786 - accuracy: 0.7037 - val_loss: 20.4778 - val_accuracy: 0.0953 - 17s/epoch - 109ms/step\n",
            "Epoch 44/100\n",
            "\n",
            "Epoch 44: loss improved from 1.07855 to 1.05020, saving model to next_words.h5\n",
            "154/154 - 15s - loss: 1.0502 - accuracy: 0.7090 - val_loss: 20.7809 - val_accuracy: 0.1090 - 15s/epoch - 96ms/step\n",
            "Epoch 45/100\n",
            "\n",
            "Epoch 45: loss improved from 1.05020 to 1.02960, saving model to next_words.h5\n",
            "154/154 - 9s - loss: 1.0296 - accuracy: 0.7158 - val_loss: 20.9578 - val_accuracy: 0.0980 - 9s/epoch - 58ms/step\n",
            "Epoch 46/100\n",
            "\n",
            "Epoch 46: loss improved from 1.02960 to 1.00929, saving model to next_words.h5\n",
            "154/154 - 8s - loss: 1.0093 - accuracy: 0.7182 - val_loss: 21.2155 - val_accuracy: 0.0989 - 8s/epoch - 52ms/step\n",
            "Epoch 47/100\n",
            "\n",
            "Epoch 47: loss improved from 1.00929 to 0.98044, saving model to next_words.h5\n",
            "154/154 - 13s - loss: 0.9804 - accuracy: 0.7252 - val_loss: 21.4422 - val_accuracy: 0.0939 - 13s/epoch - 84ms/step\n",
            "Epoch 48/100\n",
            "\n",
            "Epoch 48: loss improved from 0.98044 to 0.96657, saving model to next_words.h5\n",
            "154/154 - 4s - loss: 0.9666 - accuracy: 0.7284 - val_loss: 21.7681 - val_accuracy: 0.0999 - 4s/epoch - 23ms/step\n",
            "Epoch 49/100\n",
            "\n",
            "Epoch 49: loss improved from 0.96657 to 0.94459, saving model to next_words.h5\n",
            "154/154 - 12s - loss: 0.9446 - accuracy: 0.7353 - val_loss: 21.8044 - val_accuracy: 0.1063 - 12s/epoch - 78ms/step\n",
            "Epoch 50/100\n",
            "\n",
            "Epoch 50: loss improved from 0.94459 to 0.92409, saving model to next_words.h5\n",
            "154/154 - 10s - loss: 0.9241 - accuracy: 0.7382 - val_loss: 22.2271 - val_accuracy: 0.1090 - 10s/epoch - 68ms/step\n",
            "Epoch 51/100\n",
            "\n",
            "Epoch 51: loss improved from 0.92409 to 0.90449, saving model to next_words.h5\n",
            "154/154 - 13s - loss: 0.9045 - accuracy: 0.7435 - val_loss: 22.5262 - val_accuracy: 0.1026 - 13s/epoch - 83ms/step\n",
            "Epoch 52/100\n",
            "\n",
            "Epoch 52: loss improved from 0.90449 to 0.88647, saving model to next_words.h5\n",
            "154/154 - 12s - loss: 0.8865 - accuracy: 0.7464 - val_loss: 22.6554 - val_accuracy: 0.1063 - 12s/epoch - 78ms/step\n",
            "Epoch 53/100\n",
            "\n",
            "Epoch 53: loss improved from 0.88647 to 0.86893, saving model to next_words.h5\n",
            "154/154 - 14s - loss: 0.8689 - accuracy: 0.7513 - val_loss: 23.0991 - val_accuracy: 0.1077 - 14s/epoch - 93ms/step\n",
            "Epoch 54/100\n",
            "\n",
            "Epoch 54: loss improved from 0.86893 to 0.85179, saving model to next_words.h5\n",
            "154/154 - 12s - loss: 0.8518 - accuracy: 0.7539 - val_loss: 23.2774 - val_accuracy: 0.1017 - 12s/epoch - 80ms/step\n",
            "Epoch 55/100\n",
            "\n",
            "Epoch 55: loss improved from 0.85179 to 0.84092, saving model to next_words.h5\n",
            "154/154 - 16s - loss: 0.8409 - accuracy: 0.7568 - val_loss: 23.3347 - val_accuracy: 0.1118 - 16s/epoch - 102ms/step\n",
            "Epoch 56/100\n",
            "\n",
            "Epoch 56: loss improved from 0.84092 to 0.81723, saving model to next_words.h5\n",
            "154/154 - 13s - loss: 0.8172 - accuracy: 0.7600 - val_loss: 23.5949 - val_accuracy: 0.1086 - 13s/epoch - 84ms/step\n",
            "Epoch 57/100\n",
            "\n",
            "Epoch 57: loss improved from 0.81723 to 0.80310, saving model to next_words.h5\n",
            "154/154 - 21s - loss: 0.8031 - accuracy: 0.7639 - val_loss: 23.9398 - val_accuracy: 0.1017 - 21s/epoch - 137ms/step\n",
            "Epoch 58/100\n",
            "\n",
            "Epoch 58: loss improved from 0.80310 to 0.79102, saving model to next_words.h5\n",
            "154/154 - 29s - loss: 0.7910 - accuracy: 0.7682 - val_loss: 24.0421 - val_accuracy: 0.1136 - 29s/epoch - 188ms/step\n",
            "Epoch 59/100\n",
            "\n",
            "Epoch 59: loss improved from 0.79102 to 0.77118, saving model to next_words.h5\n",
            "154/154 - 17s - loss: 0.7712 - accuracy: 0.7724 - val_loss: 24.2061 - val_accuracy: 0.1063 - 17s/epoch - 107ms/step\n",
            "Epoch 60/100\n",
            "\n",
            "Epoch 60: loss improved from 0.77118 to 0.75991, saving model to next_words.h5\n",
            "154/154 - 14s - loss: 0.7599 - accuracy: 0.7759 - val_loss: 24.6290 - val_accuracy: 0.1077 - 14s/epoch - 93ms/step\n",
            "Epoch 61/100\n",
            "\n",
            "Epoch 61: loss improved from 0.75991 to 0.74527, saving model to next_words.h5\n",
            "154/154 - 11s - loss: 0.7453 - accuracy: 0.7804 - val_loss: 24.5853 - val_accuracy: 0.0980 - 11s/epoch - 70ms/step\n",
            "Epoch 62/100\n",
            "\n",
            "Epoch 62: loss improved from 0.74527 to 0.73409, saving model to next_words.h5\n",
            "154/154 - 20s - loss: 0.7341 - accuracy: 0.7827 - val_loss: 25.2324 - val_accuracy: 0.0999 - 20s/epoch - 129ms/step\n",
            "Epoch 63/100\n",
            "\n",
            "Epoch 63: loss improved from 0.73409 to 0.72463, saving model to next_words.h5\n",
            "154/154 - 15s - loss: 0.7246 - accuracy: 0.7830 - val_loss: 25.2115 - val_accuracy: 0.1150 - 15s/epoch - 98ms/step\n",
            "Epoch 64/100\n",
            "\n",
            "Epoch 64: loss improved from 0.72463 to 0.70804, saving model to next_words.h5\n",
            "154/154 - 15s - loss: 0.7080 - accuracy: 0.7889 - val_loss: 25.5571 - val_accuracy: 0.1040 - 15s/epoch - 97ms/step\n",
            "Epoch 65/100\n",
            "\n",
            "Epoch 65: loss improved from 0.70804 to 0.69674, saving model to next_words.h5\n",
            "154/154 - 6s - loss: 0.6967 - accuracy: 0.7924 - val_loss: 25.5792 - val_accuracy: 0.1040 - 6s/epoch - 41ms/step\n",
            "Epoch 66/100\n",
            "\n",
            "Epoch 66: loss improved from 0.69674 to 0.68526, saving model to next_words.h5\n",
            "154/154 - 6s - loss: 0.6853 - accuracy: 0.7932 - val_loss: 25.7049 - val_accuracy: 0.1099 - 6s/epoch - 42ms/step\n",
            "Epoch 67/100\n",
            "\n",
            "Epoch 67: loss improved from 0.68526 to 0.67444, saving model to next_words.h5\n",
            "154/154 - 7s - loss: 0.6744 - accuracy: 0.7980 - val_loss: 25.8822 - val_accuracy: 0.1191 - 7s/epoch - 43ms/step\n",
            "Epoch 68/100\n",
            "\n",
            "Epoch 68: loss improved from 0.67444 to 0.66251, saving model to next_words.h5\n",
            "154/154 - 6s - loss: 0.6625 - accuracy: 0.8004 - val_loss: 25.9588 - val_accuracy: 0.1044 - 6s/epoch - 42ms/step\n",
            "Epoch 69/100\n",
            "\n",
            "Epoch 69: loss improved from 0.66251 to 0.65323, saving model to next_words.h5\n",
            "154/154 - 7s - loss: 0.6532 - accuracy: 0.8026 - val_loss: 26.3160 - val_accuracy: 0.1067 - 7s/epoch - 47ms/step\n",
            "Epoch 70/100\n",
            "\n",
            "Epoch 70: loss improved from 0.65323 to 0.64398, saving model to next_words.h5\n",
            "154/154 - 19s - loss: 0.6440 - accuracy: 0.8024 - val_loss: 26.1156 - val_accuracy: 0.1081 - 19s/epoch - 124ms/step\n",
            "Epoch 71/100\n",
            "\n",
            "Epoch 71: loss improved from 0.64398 to 0.63496, saving model to next_words.h5\n",
            "154/154 - 28s - loss: 0.6350 - accuracy: 0.8051 - val_loss: 26.4385 - val_accuracy: 0.1081 - 28s/epoch - 183ms/step\n",
            "Epoch 72/100\n",
            "\n",
            "Epoch 72: loss improved from 0.63496 to 0.62563, saving model to next_words.h5\n",
            "154/154 - 28s - loss: 0.6256 - accuracy: 0.8084 - val_loss: 26.6479 - val_accuracy: 0.1086 - 28s/epoch - 182ms/step\n",
            "Epoch 73/100\n",
            "\n",
            "Epoch 73: loss improved from 0.62563 to 0.61647, saving model to next_words.h5\n",
            "154/154 - 19s - loss: 0.6165 - accuracy: 0.8091 - val_loss: 26.9059 - val_accuracy: 0.1145 - 19s/epoch - 125ms/step\n",
            "Epoch 74/100\n",
            "\n",
            "Epoch 74: loss improved from 0.61647 to 0.60795, saving model to next_words.h5\n",
            "154/154 - 24s - loss: 0.6079 - accuracy: 0.8128 - val_loss: 27.0302 - val_accuracy: 0.1077 - 24s/epoch - 153ms/step\n",
            "Epoch 75/100\n",
            "\n",
            "Epoch 75: loss improved from 0.60795 to 0.60224, saving model to next_words.h5\n",
            "154/154 - 13s - loss: 0.6022 - accuracy: 0.8143 - val_loss: 26.9115 - val_accuracy: 0.1150 - 13s/epoch - 87ms/step\n",
            "Epoch 76/100\n",
            "\n",
            "Epoch 76: loss improved from 0.60224 to 0.58985, saving model to next_words.h5\n",
            "154/154 - 6s - loss: 0.5899 - accuracy: 0.8161 - val_loss: 27.1860 - val_accuracy: 0.1026 - 6s/epoch - 41ms/step\n",
            "Epoch 77/100\n",
            "\n",
            "Epoch 77: loss improved from 0.58985 to 0.58417, saving model to next_words.h5\n",
            "154/154 - 14s - loss: 0.5842 - accuracy: 0.8164 - val_loss: 27.6114 - val_accuracy: 0.1150 - 14s/epoch - 90ms/step\n",
            "Epoch 78/100\n",
            "\n",
            "Epoch 78: loss improved from 0.58417 to 0.57131, saving model to next_words.h5\n",
            "154/154 - 6s - loss: 0.5713 - accuracy: 0.8224 - val_loss: 27.5394 - val_accuracy: 0.1141 - 6s/epoch - 40ms/step\n",
            "Epoch 79/100\n",
            "\n",
            "Epoch 79: loss improved from 0.57131 to 0.56776, saving model to next_words.h5\n",
            "154/154 - 6s - loss: 0.5678 - accuracy: 0.8209 - val_loss: 27.6723 - val_accuracy: 0.1113 - 6s/epoch - 40ms/step\n",
            "Epoch 80/100\n",
            "\n",
            "Epoch 80: loss improved from 0.56776 to 0.56078, saving model to next_words.h5\n",
            "154/154 - 6s - loss: 0.5608 - accuracy: 0.8241 - val_loss: 28.1722 - val_accuracy: 0.1086 - 6s/epoch - 41ms/step\n",
            "Epoch 81/100\n",
            "\n",
            "Epoch 81: loss improved from 0.56078 to 0.55025, saving model to next_words.h5\n",
            "154/154 - 6s - loss: 0.5503 - accuracy: 0.8284 - val_loss: 28.0686 - val_accuracy: 0.1168 - 6s/epoch - 40ms/step\n",
            "Epoch 82/100\n",
            "\n",
            "Epoch 82: loss improved from 0.55025 to 0.54638, saving model to next_words.h5\n",
            "154/154 - 6s - loss: 0.5464 - accuracy: 0.8272 - val_loss: 28.3255 - val_accuracy: 0.1086 - 6s/epoch - 40ms/step\n",
            "Epoch 83/100\n",
            "\n",
            "Epoch 83: loss improved from 0.54638 to 0.53822, saving model to next_words.h5\n",
            "154/154 - 6s - loss: 0.5382 - accuracy: 0.8306 - val_loss: 28.1387 - val_accuracy: 0.1090 - 6s/epoch - 41ms/step\n",
            "Epoch 84/100\n",
            "\n",
            "Epoch 84: loss improved from 0.53822 to 0.52985, saving model to next_words.h5\n",
            "154/154 - 6s - loss: 0.5298 - accuracy: 0.8316 - val_loss: 28.6869 - val_accuracy: 0.1090 - 6s/epoch - 40ms/step\n",
            "Epoch 85/100\n",
            "\n",
            "Epoch 85: loss improved from 0.52985 to 0.52844, saving model to next_words.h5\n",
            "154/154 - 6s - loss: 0.5284 - accuracy: 0.8295 - val_loss: 28.7503 - val_accuracy: 0.1113 - 6s/epoch - 40ms/step\n",
            "Epoch 86/100\n",
            "\n",
            "Epoch 86: loss improved from 0.52844 to 0.52136, saving model to next_words.h5\n",
            "154/154 - 6s - loss: 0.5214 - accuracy: 0.8325 - val_loss: 28.6544 - val_accuracy: 0.1159 - 6s/epoch - 40ms/step\n",
            "Epoch 87/100\n",
            "\n",
            "Epoch 87: loss improved from 0.52136 to 0.52019, saving model to next_words.h5\n",
            "154/154 - 6s - loss: 0.5202 - accuracy: 0.8311 - val_loss: 29.0489 - val_accuracy: 0.1168 - 6s/epoch - 40ms/step\n",
            "Epoch 88/100\n",
            "\n",
            "Epoch 88: loss improved from 0.52019 to 0.50970, saving model to next_words.h5\n",
            "154/154 - 6s - loss: 0.5097 - accuracy: 0.8350 - val_loss: 29.4205 - val_accuracy: 0.1040 - 6s/epoch - 40ms/step\n",
            "Epoch 89/100\n",
            "\n",
            "Epoch 89: loss improved from 0.50970 to 0.50850, saving model to next_words.h5\n",
            "154/154 - 6s - loss: 0.5085 - accuracy: 0.8339 - val_loss: 29.2937 - val_accuracy: 0.1150 - 6s/epoch - 40ms/step\n",
            "Epoch 90/100\n",
            "\n",
            "Epoch 90: loss improved from 0.50850 to 0.49968, saving model to next_words.h5\n",
            "154/154 - 6s - loss: 0.4997 - accuracy: 0.8381 - val_loss: 29.3694 - val_accuracy: 0.1095 - 6s/epoch - 40ms/step\n",
            "Epoch 91/100\n",
            "\n",
            "Epoch 91: loss improved from 0.49968 to 0.49466, saving model to next_words.h5\n",
            "154/154 - 6s - loss: 0.4947 - accuracy: 0.8386 - val_loss: 29.5380 - val_accuracy: 0.1086 - 6s/epoch - 41ms/step\n",
            "Epoch 92/100\n",
            "\n",
            "Epoch 92: loss improved from 0.49466 to 0.48999, saving model to next_words.h5\n",
            "154/154 - 6s - loss: 0.4900 - accuracy: 0.8385 - val_loss: 29.5744 - val_accuracy: 0.1067 - 6s/epoch - 41ms/step\n",
            "Epoch 93/100\n",
            "\n",
            "Epoch 93: loss improved from 0.48999 to 0.48471, saving model to next_words.h5\n",
            "154/154 - 6s - loss: 0.4847 - accuracy: 0.8410 - val_loss: 29.5288 - val_accuracy: 0.1122 - 6s/epoch - 40ms/step\n",
            "Epoch 94/100\n",
            "\n",
            "Epoch 94: loss improved from 0.48471 to 0.47851, saving model to next_words.h5\n",
            "154/154 - 6s - loss: 0.4785 - accuracy: 0.8430 - val_loss: 29.5583 - val_accuracy: 0.1099 - 6s/epoch - 40ms/step\n",
            "Epoch 95/100\n",
            "\n",
            "Epoch 95: loss improved from 0.47851 to 0.47308, saving model to next_words.h5\n",
            "154/154 - 6s - loss: 0.4731 - accuracy: 0.8441 - val_loss: 29.8612 - val_accuracy: 0.1186 - 6s/epoch - 40ms/step\n",
            "Epoch 96/100\n",
            "\n",
            "Epoch 96: loss improved from 0.47308 to 0.46940, saving model to next_words.h5\n",
            "154/154 - 6s - loss: 0.4694 - accuracy: 0.8450 - val_loss: 30.0692 - val_accuracy: 0.1058 - 6s/epoch - 39ms/step\n",
            "Epoch 97/100\n",
            "\n",
            "Epoch 97: loss improved from 0.46940 to 0.46723, saving model to next_words.h5\n",
            "154/154 - 6s - loss: 0.4672 - accuracy: 0.8477 - val_loss: 30.1395 - val_accuracy: 0.1017 - 6s/epoch - 40ms/step\n",
            "Epoch 98/100\n",
            "\n",
            "Epoch 98: loss improved from 0.46723 to 0.45992, saving model to next_words.h5\n",
            "154/154 - 6s - loss: 0.4599 - accuracy: 0.8502 - val_loss: 30.3743 - val_accuracy: 0.1049 - 6s/epoch - 40ms/step\n",
            "Epoch 99/100\n",
            "\n",
            "Epoch 99: loss improved from 0.45992 to 0.45748, saving model to next_words.h5\n",
            "154/154 - 6s - loss: 0.4575 - accuracy: 0.8471 - val_loss: 30.2675 - val_accuracy: 0.1136 - 6s/epoch - 40ms/step\n",
            "Epoch 100/100\n",
            "\n",
            "Epoch 100: loss did not improve from 0.45748\n",
            "154/154 - 6s - loss: 0.4576 - accuracy: 0.8471 - val_loss: 30.4664 - val_accuracy: 0.1012 - 6s/epoch - 40ms/step\n"
          ]
        }
      ],
      "source": [
        "history = model.fit(X, y, batch_size = 128, epochs = 100, verbose=2, validation_split=0.1, callbacks=[checkpoint])"
      ]
    },
    {
      "cell_type": "code",
      "execution_count": 95,
      "metadata": {
        "colab": {
          "base_uri": "https://localhost:8080/",
          "height": 410
        },
        "id": "okAace4RsLVo",
        "outputId": "dea8d0a3-4e1a-4de9-e5d4-2a9bfb56f9cc"
      },
      "outputs": [
        {
          "data": {
            "image/png": "[encoded data removed]",
            "text/plain": [
              "<Figure size 1200x400 with 2 Axes>"
            ]
          },
          "metadata": {},
          "output_type": "display_data"
        }
      ],
      "source": [
        "import matplotlib.pyplot as plt\n",
        "\n",
        "# # Plot utility\n",
        "# def plot_graphs(history, string):\n",
        "#   plt.plot(history.history[string])\n",
        "#   plt.xlabel(\"Epochs\")\n",
        "#   plt.ylabel(string)\n",
        "#   plt.show()\n",
        "\n",
        "# # Visualize the accuracy\n",
        "# plot_graphs(history, \"accuracy\")\n",
        "# plot_graphs(history, \"val_acc\")\n",
        "# plot_graphs(history, \"loss\")\n",
        "# plot_graphs(history, \"val_loss\")\n",
        "# Plot the training progress\n",
        "plt.figure(figsize=(12, 4))\n",
        "\n",
        "# Plot accuracy\n",
        "plt.subplot(1, 2, 1)\n",
        "plt.plot(history.history['accuracy'], label='Train')\n",
        "plt.plot(history.history['val_accuracy'], label='Validation')\n",
        "plt.title('Model Accuracy')\n",
        "plt.xlabel('Epoch')\n",
        "plt.ylabel('Accuracy')\n",
        "plt.legend()\n",
        "\n",
        "# Plot loss\n",
        "plt.subplot(1, 2, 2)\n",
        "plt.plot(history.history['loss'], label='Train')\n",
        "plt.plot(history.history['val_loss'], label='Validation')\n",
        "plt.title('Model Loss')\n",
        "plt.xlabel('Epoch')\n",
        "plt.ylabel('Loss')\n",
        "plt.legend()\n",
        "\n",
        "# plt.tight_layout()\n",
        "plt.show()"
      ]
    },
    {
      "attachments": {},
      "cell_type": "markdown",
      "metadata": {
        "id": "cPUCyhGOjvyr"
      },
      "source": [
        "We are now going to generate words using the model. For this we need a set of 5 words to predict the 51st word. So we are taking a random line."
      ]
    },
    {
      "cell_type": "code",
      "execution_count": 96,
      "metadata": {
        "colab": {
          "base_uri": "https://localhost:8080/",
          "height": 35
        },
        "id": "VLxknpcKjUJT",
        "outputId": "46b6e4a1-675f-4384-eae3-680d0025f5a0"
      },
      "outputs": [
        {
          "data": {
            "text/plain": [
              "'bagaimana cara'"
            ]
          },
          "execution_count": 96,
          "metadata": {},
          "output_type": "execute_result"
        }
      ],
      "source": [
        "# seed_text=lines[12343]\n",
        "seed_text=\"bagaimana cara\"\n",
        "seed_text"
      ]
    },
    {
      "attachments": {},
      "cell_type": "markdown",
      "metadata": {
        "id": "C2zLSelwjyhy"
      },
      "source": [
        "`generate_text_seq()` generates  number of words after the given . We are going to pre-process the  before predicting. We are going to encode the  using the same encoding used for encoding the training data. Then we are going to convert the to 5 words by using . Now we will predict using . After that we will search the word in  using the index in . Finally we will append the predicted word to  and  and repeat the process. `n_words` `seed_text` `seed_text` `seed_text` `seed_text` `pad_sequences()` `model.predict_classes()` `tokenizer` `y_predict` `seed_text` `text`"
      ]
    },
    {
      "cell_type": "code",
      "execution_count": 97,
      "metadata": {
        "id": "K2ZNql0XjptR"
      },
      "outputs": [],
      "source": [
        "def generate_text_seq(model, tokenizer, text_seq_length, seed_text, n_words):\n",
        "  text = []\n",
        "\n",
        "  for _ in range(n_words):\n",
        "    encoded = tokenizer.texts_to_sequences([seed_text])[0]\n",
        "    encoded = pad_sequences([encoded], maxlen = text_seq_length, truncating='pre')\n",
        "\n",
        "    # y_predict = model.predict_classes(encoded)\n",
        "    y_predict = np.argmax(model.predict(encoded), axis=1)\n",
        "\n",
        "    predicted_word = ''\n",
        "    for word, index in tokenizer.word_index.items():\n",
        "      if index == y_predict:\n",
        "        predicted_word = word\n",
        "        break\n",
        "    seed_text = seed_text + ' ' + predicted_word\n",
        "    text.append(predicted_word)\n",
        "  return ' '.join(text)"
      ]
    },
    {
      "attachments": {},
      "cell_type": "markdown",
      "metadata": {
        "id": "1y29p9btkFpL"
      },
      "source": [
        "We can see that the next 5 words are predicted by the model for the . `seed_text`"
      ]
    },
    {
      "cell_type": "code",
      "execution_count": 98,
      "metadata": {
        "colab": {
          "base_uri": "https://localhost:8080/",
          "height": 122
        },
        "id": "CVyhj6fLjtoW",
        "outputId": "16980a01-e9ed-425f-d516-f3ff2bb0b6c7"
      },
      "outputs": [
        {
          "name": "stdout",
          "output_type": "stream",
          "text": [
            "1/1 [==============================] - 2s 2s/step\n",
            "1/1 [==============================] - 0s 70ms/step\n",
            "1/1 [==============================] - 0s 62ms/step\n",
            "1/1 [==============================] - 0s 61ms/step\n",
            "1/1 [==============================] - 0s 60ms/step\n"
          ]
        },
        {
          "data": {
            "text/plain": [
              "'mengatasi masalah kucing yang sering'"
            ]
          },
          "execution_count": 98,
          "metadata": {},
          "output_type": "execute_result"
        }
      ],
      "source": [
        "generate_text_seq(model, tokenizer, seq_length, \"bagaimana cara\", 5)"
      ]
    },
    {
      "cell_type": "code",
      "execution_count": 99,
      "metadata": {
        "id": "Nw5pXhpBz4oq"
      },
      "outputs": [],
      "source": [
        "# model.save(\"text_generation_model(new).h5\")"
      ]
    }
  ],
  "metadata": {
    "colab": {
      "provenance": []
    },
    "kernelspec": {
      "display_name": "Python 3",
      "name": "python3"
    },
    "language_info": {
      "codemirror_mode": {
        "name": "ipython",
        "version": 3
      },
      "file_extension": ".py",
      "mimetype": "text/x-python",
      "name": "python",
      "nbconvert_exporter": "python",
      "pygments_lexer": "ipython3",
      "version": "3.11.3"
    }
  },
  "nbformat": 4,
  "nbformat_minor": 0
}
